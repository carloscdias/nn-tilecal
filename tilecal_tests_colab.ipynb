{
  "nbformat": 4,
  "nbformat_minor": 0,
  "metadata": {
    "colab": {
      "name": "tilecal-tests-colab.ipynb",
      "version": "0.3.2",
      "provenance": [],
      "collapsed_sections": []
    },
    "kernelspec": {
      "name": "python3",
      "display_name": "Python 3"
    }
  },
  "cells": [
    {
      "metadata": {
        "id": "Zg_LmIJS2J6Y",
        "colab_type": "text"
      },
      "cell_type": "markdown",
      "source": [
        "<h1>Testes com os dados do Tilecal</h1>"
      ]
    },
    {
      "metadata": {
        "id": "MJ15-rUfCeuG",
        "colab_type": "text"
      },
      "cell_type": "markdown",
      "source": [
        "Leitura dos dados do arquivo texto para um array de arrays em python."
      ]
    },
    {
      "metadata": {
        "id": "aubw_lKpCKsr",
        "colab_type": "code",
        "outputId": "3560cac3-272a-4afb-df58-df565977d0b9",
        "colab": {
          "base_uri": "https://localhost:8080/",
          "height": 34
        }
      },
      "cell_type": "code",
      "source": [
        "# leitura do arquivo\n",
        "with open('./data/pulses_uni0-1024_and_noise_zbEBAch01mu40.txt', 'r') as file:\n",
        "  tilecal_data = [[int(value) for value in line.split()] for line in file.readlines()]\n",
        "\n",
        "print(\"Arquivo contendo {} linhas com {} valores por linha\".format(len(tilecal_data), len(tilecal_data[0])))"
      ],
      "execution_count": 4,
      "outputs": [
        {
          "output_type": "stream",
          "text": [
            "Arquivo contendo 304321 linhas com 8 valores por linha\n"
          ],
          "name": "stdout"
        }
      ]
    },
    {
      "metadata": {
        "id": "CLJ1hvnceHpu",
        "colab_type": "text"
      },
      "cell_type": "markdown",
      "source": [
        "Normalizando e separando dataset entre treino e teste: 70% treino, 30% teste"
      ]
    },
    {
      "metadata": {
        "id": "4DH0Gw5Mz5M1",
        "colab_type": "code",
        "colab": {}
      },
      "cell_type": "code",
      "source": [
        "import numpy as np\n",
        "from sklearn.model_selection import train_test_split\n",
        "from sklearn.preprocessing import StandardScaler\n",
        "\n",
        "np_arr = np.array(tilecal_data)\n",
        "X, y = np_arr[:, :7].astype('float32'), np_arr[:, 7].astype('float32')\n",
        "\n",
        "X_scaler = StandardScaler().fit(X)\n",
        "y_scaler = StandardScaler().fit(y.reshape(len(y), 1))\n",
        "X = X_scaler.transform(X)\n",
        "y = y_scaler.transform(y.reshape(len(y), 1))[:,0]\n",
        "\n",
        "X_train, X_test, y_train, y_test = train_test_split(X, y, test_size=0.3)"
      ],
      "execution_count": 0,
      "outputs": []
    },
    {
      "metadata": {
        "id": "YR5UNkHPk86g",
        "colab_type": "text"
      },
      "cell_type": "markdown",
      "source": [
        "Construindo, treinando e avaliando o modelo"
      ]
    },
    {
      "metadata": {
        "id": "Psc6e0kE0LGQ",
        "colab_type": "code",
        "colab": {
          "base_uri": "https://localhost:8080/",
          "height": 360
        },
        "outputId": "c10da479-c365-43b4-a741-9630d4ef6c0c"
      },
      "cell_type": "code",
      "source": [
        "from keras.models import Sequential\n",
        "from keras.layers import Dense, Dropout\n",
        "from keras.optimizers import SGD\n",
        "\n",
        "model = Sequential()\n",
        "model.add(Dense(32, activation='relu', input_dim=7))\n",
        "model.add(Dense(32, activation='relu'))\n",
        "model.add(Dense(1, activation='linear'))\n",
        "\n",
        "opt = SGD(lr=0.01, momentum=0.9)\n",
        "\n",
        "model.compile(optimizer=opt,\n",
        "              loss='mean_squared_error',\n",
        "              metrics=['mse', 'mae', 'mape', 'cosine'])\n",
        "\n",
        "history = model.fit(X_train, y_train,\n",
        "          batch_size=50, epochs=5,\n",
        "          verbose=1, validation_data=(X_test, y_test))\n",
        "\n",
        "score = model.evaluate(X_test, y_test, verbose=0)\n",
        "\n",
        "print(score)"
      ],
      "execution_count": 6,
      "outputs": [
        {
          "output_type": "stream",
          "text": [
            "Using TensorFlow backend.\n"
          ],
          "name": "stderr"
        },
        {
          "output_type": "stream",
          "text": [
            "WARNING:tensorflow:From /usr/local/lib/python3.6/dist-packages/tensorflow/python/framework/op_def_library.py:263: colocate_with (from tensorflow.python.framework.ops) is deprecated and will be removed in a future version.\n",
            "Instructions for updating:\n",
            "Colocations handled automatically by placer.\n",
            "WARNING:tensorflow:From /usr/local/lib/python3.6/dist-packages/tensorflow/python/ops/math_ops.py:3066: to_int32 (from tensorflow.python.ops.math_ops) is deprecated and will be removed in a future version.\n",
            "Instructions for updating:\n",
            "Use tf.cast instead.\n",
            "Train on 213024 samples, validate on 91297 samples\n",
            "Epoch 1/5\n",
            "213024/213024 [==============================] - 6s 27us/step - loss: 0.0107 - mean_squared_error: 0.0107 - mean_absolute_error: 0.0682 - mean_absolute_percentage_error: 36.3802 - cosine_proximity: -0.9589 - val_loss: 0.0077 - val_mean_squared_error: 0.0077 - val_mean_absolute_error: 0.0597 - val_mean_absolute_percentage_error: 30.0963 - val_cosine_proximity: -0.9639\n",
            "Epoch 2/5\n",
            "213024/213024 [==============================] - 5s 23us/step - loss: 0.0068 - mean_squared_error: 0.0068 - mean_absolute_error: 0.0569 - mean_absolute_percentage_error: 30.2010 - cosine_proximity: -0.9663 - val_loss: 0.0059 - val_mean_squared_error: 0.0059 - val_mean_absolute_error: 0.0533 - val_mean_absolute_percentage_error: 25.9077 - val_cosine_proximity: -0.9684\n",
            "Epoch 3/5\n",
            "213024/213024 [==============================] - 5s 23us/step - loss: 0.0054 - mean_squared_error: 0.0054 - mean_absolute_error: 0.0514 - mean_absolute_percentage_error: 26.9235 - cosine_proximity: -0.9694 - val_loss: 0.0049 - val_mean_squared_error: 0.0049 - val_mean_absolute_error: 0.0497 - val_mean_absolute_percentage_error: 24.1135 - val_cosine_proximity: -0.9711\n",
            "Epoch 4/5\n",
            "213024/213024 [==============================] - 5s 23us/step - loss: 0.0049 - mean_squared_error: 0.0049 - mean_absolute_error: 0.0493 - mean_absolute_percentage_error: 25.4914 - cosine_proximity: -0.9708 - val_loss: 0.0051 - val_mean_squared_error: 0.0051 - val_mean_absolute_error: 0.0509 - val_mean_absolute_percentage_error: 23.3915 - val_cosine_proximity: -0.9720\n",
            "Epoch 5/5\n",
            "213024/213024 [==============================] - 5s 24us/step - loss: 0.0047 - mean_squared_error: 0.0047 - mean_absolute_error: 0.0484 - mean_absolute_percentage_error: 25.2298 - cosine_proximity: -0.9711 - val_loss: 0.0046 - val_mean_squared_error: 0.0046 - val_mean_absolute_error: 0.0480 - val_mean_absolute_percentage_error: 23.9856 - val_cosine_proximity: -0.9716\n",
            "[0.004553625224233268, 0.004553625224233268, 0.04796497647061931, 23.985621870619738, -0.9716091399185133]\n"
          ],
          "name": "stdout"
        }
      ]
    }
  ]
}