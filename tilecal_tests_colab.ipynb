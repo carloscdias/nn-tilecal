{
  "nbformat": 4,
  "nbformat_minor": 0,
  "metadata": {
    "colab": {
      "name": "tilecal-tests-colab.ipynb",
      "version": "0.3.2",
      "provenance": [],
      "collapsed_sections": []
    },
    "kernelspec": {
      "name": "python3",
      "display_name": "Python 3"
    }
  },
  "cells": [
    {
      "metadata": {
        "id": "Zg_LmIJS2J6Y",
        "colab_type": "text"
      },
      "cell_type": "markdown",
      "source": [
        "<h1>Testes com os dados do Tilecal</h1>"
      ]
    },
    {
      "metadata": {
        "id": "DUX1I2JrmqQG",
        "colab_type": "text"
      },
      "cell_type": "markdown",
      "source": [
        "Clonando repositório para ter acesso aos dados"
      ]
    },
    {
      "metadata": {
        "id": "ssTZWqcLmKT2",
        "colab_type": "code",
        "colab": {
          "base_uri": "https://localhost:8080/",
          "height": 119
        },
        "outputId": "719f4863-c3f7-4a1a-9f3d-bb79eb163638"
      },
      "cell_type": "code",
      "source": [
        "!git clone https://github.com/carloscdias/nn-tilecal.git"
      ],
      "execution_count": 1,
      "outputs": [
        {
          "output_type": "stream",
          "text": [
            "Cloning into 'nn-tilecal'...\n",
            "remote: Enumerating objects: 8, done.\u001b[K\n",
            "remote: Counting objects: 100% (8/8), done.\u001b[K\n",
            "remote: Compressing objects: 100% (7/7), done.\u001b[K\n",
            "remote: Total 8 (delta 0), reused 8 (delta 0), pack-reused 0\u001b[K\n",
            "Unpacking objects: 100% (8/8), done.\n"
          ],
          "name": "stdout"
        }
      ]
    },
    {
      "metadata": {
        "id": "MJ15-rUfCeuG",
        "colab_type": "text"
      },
      "cell_type": "markdown",
      "source": [
        "Leitura dos dados do arquivo texto para um array de arrays em python."
      ]
    },
    {
      "metadata": {
        "id": "aubw_lKpCKsr",
        "colab_type": "code",
        "outputId": "d298d273-23d4-4810-e36a-158ead824ed5",
        "colab": {
          "base_uri": "https://localhost:8080/",
          "height": 34
        }
      },
      "cell_type": "code",
      "source": [
        "# leitura do arquivo\n",
        "with open('./nn-tilecal/data/pulses_uni0-1024_and_noise_zbEBAch01mu40.txt', 'r') as file:\n",
        "  tilecal_data = [[int(value) for value in line.split()] for line in file.readlines()]\n",
        "\n",
        "print(\"Arquivo contendo {} linhas com {} valores por linha\".format(len(tilecal_data), len(tilecal_data[0])))"
      ],
      "execution_count": 2,
      "outputs": [
        {
          "output_type": "stream",
          "text": [
            "Arquivo contendo 304321 linhas com 8 valores por linha\n"
          ],
          "name": "stdout"
        }
      ]
    },
    {
      "metadata": {
        "id": "CLJ1hvnceHpu",
        "colab_type": "text"
      },
      "cell_type": "markdown",
      "source": [
        "Normalizando e separando dataset entre treino e teste: 70% treino, 30% teste"
      ]
    },
    {
      "metadata": {
        "id": "4DH0Gw5Mz5M1",
        "colab_type": "code",
        "colab": {}
      },
      "cell_type": "code",
      "source": [
        "import numpy as np\n",
        "from sklearn.model_selection import train_test_split\n",
        "from sklearn.preprocessing import StandardScaler\n",
        "\n",
        "np_arr = np.array(tilecal_data)\n",
        "X, y = np_arr[:, :7].astype('float32'), np_arr[:, 7].astype('float32')\n",
        "\n",
        "X_scaler = StandardScaler().fit(X)\n",
        "y_scaler = StandardScaler().fit(y.reshape(len(y), 1))\n",
        "X = X_scaler.transform(X)\n",
        "y = y_scaler.transform(y.reshape(len(y), 1))[:,0]\n",
        "\n",
        "X_train, X_test, y_train, y_test = train_test_split(X, y, test_size=0.3)"
      ],
      "execution_count": 0,
      "outputs": []
    },
    {
      "metadata": {
        "id": "YR5UNkHPk86g",
        "colab_type": "text"
      },
      "cell_type": "markdown",
      "source": [
        "Construindo, treinando e avaliando o modelo"
      ]
    },
    {
      "metadata": {
        "id": "Psc6e0kE0LGQ",
        "colab_type": "code",
        "outputId": "e3bbb975-6145-4230-b3a3-4d42df5b8b62",
        "colab": {
          "base_uri": "https://localhost:8080/",
          "height": 360
        }
      },
      "cell_type": "code",
      "source": [
        "from keras.models import Sequential\n",
        "from keras.layers import Dense, Dropout\n",
        "from keras.optimizers import SGD\n",
        "\n",
        "model = Sequential()\n",
        "model.add(Dense(32, activation='relu', input_dim=7))\n",
        "model.add(Dense(32, activation='relu'))\n",
        "model.add(Dense(1, activation='linear'))\n",
        "\n",
        "opt = SGD(lr=0.01, momentum=0.9)\n",
        "\n",
        "model.compile(optimizer=opt,\n",
        "              loss='mean_squared_error',\n",
        "              metrics=['mse', 'mae', 'mape', 'cosine'])\n",
        "\n",
        "history = model.fit(X_train, y_train,\n",
        "          batch_size=50, epochs=5,\n",
        "          verbose=1, validation_data=(X_test, y_test))\n",
        "\n",
        "score = model.evaluate(X_test, y_test, verbose=0)\n",
        "\n",
        "print(score)"
      ],
      "execution_count": 4,
      "outputs": [
        {
          "output_type": "stream",
          "text": [
            "Using TensorFlow backend.\n"
          ],
          "name": "stderr"
        },
        {
          "output_type": "stream",
          "text": [
            "WARNING:tensorflow:From /usr/local/lib/python3.6/dist-packages/tensorflow/python/framework/op_def_library.py:263: colocate_with (from tensorflow.python.framework.ops) is deprecated and will be removed in a future version.\n",
            "Instructions for updating:\n",
            "Colocations handled automatically by placer.\n",
            "WARNING:tensorflow:From /usr/local/lib/python3.6/dist-packages/tensorflow/python/ops/math_ops.py:3066: to_int32 (from tensorflow.python.ops.math_ops) is deprecated and will be removed in a future version.\n",
            "Instructions for updating:\n",
            "Use tf.cast instead.\n",
            "Train on 213024 samples, validate on 91297 samples\n",
            "Epoch 1/5\n",
            "213024/213024 [==============================] - 6s 27us/step - loss: 0.0115 - mean_squared_error: 0.0115 - mean_absolute_error: 0.0685 - mean_absolute_percentage_error: 36.0445 - cosine_proximity: -0.9582 - val_loss: 0.0072 - val_mean_squared_error: 0.0072 - val_mean_absolute_error: 0.0605 - val_mean_absolute_percentage_error: 31.6149 - val_cosine_proximity: -0.9653\n",
            "Epoch 2/5\n",
            "213024/213024 [==============================] - 5s 24us/step - loss: 0.0062 - mean_squared_error: 0.0062 - mean_absolute_error: 0.0550 - mean_absolute_percentage_error: 29.0370 - cosine_proximity: -0.9672 - val_loss: 0.0053 - val_mean_squared_error: 0.0053 - val_mean_absolute_error: 0.0497 - val_mean_absolute_percentage_error: 27.1303 - val_cosine_proximity: -0.9716\n",
            "Epoch 3/5\n",
            "213024/213024 [==============================] - 5s 24us/step - loss: 0.0052 - mean_squared_error: 0.0052 - mean_absolute_error: 0.0506 - mean_absolute_percentage_error: 26.7380 - cosine_proximity: -0.9696 - val_loss: 0.0048 - val_mean_squared_error: 0.0048 - val_mean_absolute_error: 0.0493 - val_mean_absolute_percentage_error: 26.6976 - val_cosine_proximity: -0.9706\n",
            "Epoch 4/5\n",
            "213024/213024 [==============================] - 5s 24us/step - loss: 0.0049 - mean_squared_error: 0.0049 - mean_absolute_error: 0.0493 - mean_absolute_percentage_error: 25.8396 - cosine_proximity: -0.9705 - val_loss: 0.0045 - val_mean_squared_error: 0.0045 - val_mean_absolute_error: 0.0466 - val_mean_absolute_percentage_error: 24.6052 - val_cosine_proximity: -0.9730\n",
            "Epoch 5/5\n",
            "213024/213024 [==============================] - 5s 24us/step - loss: 0.0047 - mean_squared_error: 0.0047 - mean_absolute_error: 0.0482 - mean_absolute_percentage_error: 25.0812 - cosine_proximity: -0.9711 - val_loss: 0.0044 - val_mean_squared_error: 0.0044 - val_mean_absolute_error: 0.0463 - val_mean_absolute_percentage_error: 24.1498 - val_cosine_proximity: -0.9728\n",
            "[0.004445701889932115, 0.004445701889932115, 0.04627290331160606, 24.14984543182733, -0.9728139987439435]\n"
          ],
          "name": "stdout"
        }
      ]
    }
  ]
}